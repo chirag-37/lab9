{
 "cells": [
  {
   "cell_type": "code",
   "execution_count": 1,
   "metadata": {},
   "outputs": [
    {
     "name": "stdout",
     "output_type": "stream",
     "text": [
      "num14\n",
      "num25\n",
      "20\n"
     ]
    }
   ],
   "source": [
    "#q1\n",
    "def mul(a,b):\n",
    "    c=a*b\n",
    "    return(c)\n",
    "a=int(input(\"num1\"))\n",
    "b=int(input(\"num2\"))\n",
    "c=mul(a,b)\n",
    "print(c)"
   ]
  },
  {
   "cell_type": "code",
   "execution_count": 2,
   "metadata": {},
   "outputs": [
    {
     "name": "stdout",
     "output_type": "stream",
     "text": [
      "num14\n",
      "num25\n",
      "9\n"
     ]
    }
   ],
   "source": [
    "#q2\n",
    "def add(a,b):\n",
    "    c=a+b\n",
    "    return(c)\n",
    "a=int(input(\"num1\"))\n",
    "b=int(input(\"num2\"))\n",
    "c=add(a,b)\n",
    "print(c)"
   ]
  },
  {
   "cell_type": "code",
   "execution_count": 13,
   "metadata": {},
   "outputs": [
    {
     "name": "stdout",
     "output_type": "stream",
     "text": [
      "enter the limit5\n",
      "1\n",
      "2\n",
      "3\n",
      "5\n",
      "8\n"
     ]
    }
   ],
   "source": [
    "#q4\n",
    "def fib(v):\n",
    "    a=0\n",
    "    b=1\n",
    "    for i in range(v):\n",
    "        sum=a+b\n",
    "        print(sum)\n",
    "        a=b\n",
    "        b=sum\n",
    "v=int(input(\"enter the limit\"))\n",
    "fib(v)"
   ]
  },
  {
   "cell_type": "code",
   "execution_count": 14,
   "metadata": {},
   "outputs": [
    {
     "name": "stdout",
     "output_type": "stream",
     "text": [
      "enter first number4\n",
      "enter second number5\n",
      "5 4\n"
     ]
    }
   ],
   "source": [
    "#q5\n",
    "def swap(a,b):\n",
    "    t=0\n",
    "    t=a\n",
    "    a=b\n",
    "    b=t\n",
    "    print(a,b)\n",
    "a=int(input(\"enter first number\"))\n",
    "b=int(input(\"enter second number\"))\n",
    "swap(a,b)"
   ]
  },
  {
   "cell_type": "code",
   "execution_count": 15,
   "metadata": {},
   "outputs": [
    {
     "name": "stdout",
     "output_type": "stream",
     "text": [
      "Please enter any number to find factorial: 4\n",
      "The factorial of 4 = 24\n"
     ]
    }
   ],
   "source": [
    "#q3\n",
    "def factorial(num):\n",
    "    fact=1\n",
    "    for i in range(1, num+1):\n",
    "        fact=fact*i\n",
    "    return fact\n",
    "number=int(input(\"Please enter any number to find factorial: \"))\n",
    "result=factorial(number)\n",
    "print(\"The factorial of %d = %d\"%(number,result))"
   ]
  },
  {
   "cell_type": "code",
   "execution_count": 16,
   "metadata": {},
   "outputs": [
    {
     "name": "stdout",
     "output_type": "stream",
     "text": [
      "Enter first number: 4\n",
      "Enter second number: 2\n",
      "The H.C.F. of 4 and 2 is 2\n"
     ]
    }
   ],
   "source": [
    "#q6\n",
    "def hcf(x, y):\n",
    "    if x > y:\n",
    "        smaller = y\n",
    "    else:\n",
    "        smaller = x\n",
    "    for i in range(1, smaller + 1):\n",
    "        if ((x % i == 0) and (y % i == 0)):\n",
    "            hcf = i\n",
    "    return hcf\n",
    "\n",
    "\n",
    "num1 = int(input(\"Enter first number: \"))\n",
    "num2 = int(input(\"Enter second number: \"))\n",
    "print(\"The H.C.F. of\", num1, \"and\", num2, \"is\", hcf(num1, num2))"
   ]
  },
  {
   "cell_type": "code",
   "execution_count": 17,
   "metadata": {},
   "outputs": [
    {
     "name": "stdout",
     "output_type": "stream",
     "text": [
      "Enter ASCII value: 4\n",
      "\u0004\n",
      "F\n"
     ]
    }
   ],
   "source": [
    "#q7\n",
    "num = int(input(\"Enter ASCII value: \"))\n",
    "print(chr(num))\n",
    "\n",
    "num2 = 70\n",
    "print(chr(num2))"
   ]
  },
  {
   "cell_type": "code",
   "execution_count": 18,
   "metadata": {},
   "outputs": [
    {
     "name": "stdout",
     "output_type": "stream",
     "text": [
      "The ceil of 2.3 is : 3\n",
      "The floor of 2.3 is : 2\n"
     ]
    }
   ],
   "source": [
    "#q8\n",
    "import math\n",
    "a = 2.3\n",
    "print (\"The ceil of 2.3 is : \", end=\"\")\n",
    "print (math.ceil(a)) \n",
    "print (\"The floor of 2.3 is : \", end=\"\")\n",
    "print (math.floor(a))\n"
   ]
  },
  {
   "cell_type": "code",
   "execution_count": 20,
   "metadata": {},
   "outputs": [
    {
     "name": "stdout",
     "output_type": "stream",
     "text": [
      "Number of ticks since 12:00am, January 1, 1970: 1585729674.5809975\n"
     ]
    }
   ],
   "source": [
    "#q9\n",
    "import time;\n",
    "\n",
    "ticks = time.time()\n",
    "print(\"Number of ticks since 12:00am, January 1, 1970:\", ticks)\n"
   ]
  },
  {
   "cell_type": "code",
   "execution_count": 21,
   "metadata": {},
   "outputs": [
    {
     "name": "stdout",
     "output_type": "stream",
     "text": [
      "Hello Hi, Good morning\n"
     ]
    }
   ],
   "source": [
    "#q10\n",
    "def greet(name,msg):\n",
    "   print(\"Hello\",name + ', ' + msg)\n",
    "greet(\"Hi\",\"Good morning\")"
   ]
  },
  {
   "cell_type": "code",
   "execution_count": 23,
   "metadata": {},
   "outputs": [
    {
     "name": "stdout",
     "output_type": "stream",
     "text": [
      "amit and aman are brother\n"
     ]
    }
   ],
   "source": [
    "#q11\n",
    "def print_name(name1, name2):\n",
    "  print(name1 + \" and \" + name2 + \" are brother\")\n",
    "print_name(name2 = 'aman',name1 = 'amit')"
   ]
  },
  {
   "cell_type": "code",
   "execution_count": 24,
   "metadata": {},
   "outputs": [
    {
     "name": "stdout",
     "output_type": "stream",
     "text": [
      "3\n",
      "11\n"
     ]
    }
   ],
   "source": [
    "#q12\n",
    "def sum(a=5, b=6):\n",
    "  print (a+b)\n",
    "sum(1,2)\n",
    "sum( )"
   ]
  },
  {
   "cell_type": "code",
   "execution_count": 27,
   "metadata": {},
   "outputs": [
    {
     "name": "stdout",
     "output_type": "stream",
     "text": [
      "aman\n",
      "amit\n",
      "rahul\n",
      "('aman', 'LA')\n",
      "('amit', 'NY')\n",
      "('rahul', 'DC')\n"
     ]
    }
   ],
   "source": [
    "#q13\n",
    "def display(*name, **address):\n",
    "  for items in name:\n",
    "    print (items)\n",
    "\n",
    "  for items in address.items():\n",
    "    print (items)\n",
    "\n",
    "display('aman','amit','rahul',aman='LA',amit='NY',rahul='DC')"
   ]
  },
  {
   "cell_type": "code",
   "execution_count": null,
   "metadata": {},
   "outputs": [],
   "source": []
  }
 ],
 "metadata": {
  "kernelspec": {
   "display_name": "Python 3",
   "language": "python",
   "name": "python3"
  },
  "language_info": {
   "codemirror_mode": {
    "name": "ipython",
    "version": 3
   },
   "file_extension": ".py",
   "mimetype": "text/x-python",
   "name": "python",
   "nbconvert_exporter": "python",
   "pygments_lexer": "ipython3",
   "version": "3.7.6"
  }
 },
 "nbformat": 4,
 "nbformat_minor": 4
}
